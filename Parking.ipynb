import pandas as pd
df = pd.read_csv("311_Service_Requests_2020.csv")
df.head()
len(df)
df["Complaint Type"].unique()

import re
#pattern1 = "parking"
pattern2 = "Illegal Parking"

#number of total incidents
no_total = len(df)

#number of illegal parking incidents
no_ilparking = len(df[df["Complaint Type"].str.contains(pattern2,case = False)])
ratio1 = no_ilparking/no_total
ratio1


df2 = df[df["Incident Zip"] == 10025]
#number of total incidents in 10025
zip_no_total = len(df2)

#number of illegal parking incidents in 10025
zip_no_ilparking = len(df2[df2["Complaint Type"].str.contains(pattern2,case = False)])
ratio2 = zip_no_ilparking/zip_no_total
ratio2

higher_parking_proportion = (ratio2 > ratio1)