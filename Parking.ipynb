{
 "cells": [
  {
   "cell_type": "code",
   "execution_count": 2,
   "metadata": {},
   "outputs": [
    {
     "name": "stderr",
     "output_type": "stream",
     "text": [
      "D:\\Anaconda\\lib\\site-packages\\IPython\\core\\interactiveshell.py:3146: DtypeWarning: Columns (20,31,32) have mixed types.Specify dtype option on import or set low_memory=False.\n",
      "  has_raised = await self.run_ast_nodes(code_ast.body, cell_name,\n"
     ]
    }
   ],
   "source": [
    "import pandas as pd\n",
    "df = pd.read_csv(\"311_Service_Requests_2020.csv\")\n"
   ]
  },
  {
   "cell_type": "code",
   "execution_count": 3,
   "metadata": {},
   "outputs": [
    {
     "data": {
      "text/plain": [
       "2587316"
      ]
     },
     "execution_count": 3,
     "metadata": {},
     "output_type": "execute_result"
    }
   ],
   "source": [
    "df.head()\n",
    "len(df)"
   ]
  },
  {
   "cell_type": "code",
   "execution_count": 4,
   "metadata": {
    "collapsed": true
   },
   "outputs": [
    {
     "data": {
      "text/plain": [
       "array(['Food Poisoning', 'Blocked Driveway', 'Noise - Residential',\n",
       "       'Noise - Helicopter', 'Noise - Commercial', 'HEAT/HOT WATER',\n",
       "       'Illegal Parking', 'Street Condition', 'Rodent',\n",
       "       'Noise - Street/Sidewalk', 'Illegal Fireworks', 'PLUMBING',\n",
       "       'DOOR/WINDOW', 'Sidewalk Condition', 'Taxi Complaint',\n",
       "       'Traffic Signal Condition', 'Dirty Conditions', 'Building/Use',\n",
       "       'Noise', 'Sewer', 'Drinking', 'Street Light Condition',\n",
       "       'Noise - Vehicle', 'Animal-Abuse', 'Elevator', 'Derelict Vehicles',\n",
       "       'Dead/Dying Tree', 'Non-Emergency Police Matter',\n",
       "       'Homeless Encampment', 'WATER LEAK', 'UNSANITARY CONDITION',\n",
       "       'General Construction/Plumbing', 'Boilers',\n",
       "       'Street Sign - Missing', 'Water System',\n",
       "       'For Hire Vehicle Complaint', 'Food Establishment',\n",
       "       'Special Projects Inspection Team (SPIT)', 'Lead', 'Lost Property',\n",
       "       'Abandoned Vehicle', 'Hazardous Materials', 'PAINT/PLASTER',\n",
       "       'APPLIANCE', 'FLOORING/STAIRS', 'Highway Condition',\n",
       "       'Street Sign - Damaged', 'Consumer Complaint',\n",
       "       'Sanitation Condition', 'Air Quality', 'Taxi Report',\n",
       "       'Missed Collection (All Materials)', 'Overgrown Tree/Branches',\n",
       "       'Homeless Person Assistance', 'GENERAL', 'Noise - Park',\n",
       "       'Damaged Tree', 'Graffiti', 'ELECTRIC', 'Maintenance or Facility',\n",
       "       'Street Sign - Dangling', 'Derelict Bicycle', 'New Tree Request',\n",
       "       'Panhandling', 'Electrical', 'Animal in a Park', 'SAFETY',\n",
       "       'Vending', 'Drug Activity', 'Unleashed Dog', 'Water Quality',\n",
       "       'Root/Sewer/Sidewalk Condition', 'ELEVATOR', 'Smoking',\n",
       "       'Illegal Animal Kept as Pet', 'Curb Condition',\n",
       "       'Unsanitary Animal Pvt Property', 'Mobile Food Vendor',\n",
       "       'Broken Parking Meter', 'Public Payphone Complaint',\n",
       "       'Bike/Roller/Skate Chronic',\n",
       "       'Home Delivered Meal - Missed Delivery', 'Asbestos',\n",
       "       'Green Taxi Complaint', 'BEST/Site Safety', 'School Maintenance',\n",
       "       'Illegal Tree Damage', 'Pet Shop', 'Plumbing',\n",
       "       'Beach/Pool/Sauna Complaint', 'Indoor Sewage', 'Vacant Lot',\n",
       "       'Traffic', 'For Hire Vehicle Report', 'Snow',\n",
       "       'Municipal Parking Facility', 'Water Conservation',\n",
       "       'Indoor Air Quality', 'OUTSIDE BUILDING', 'Scaffold Safety',\n",
       "       'Other Enforcement', 'Unsanitary Pigeon Condition',\n",
       "       'Bridge Condition', 'Plant', 'Industrial Waste',\n",
       "       'Non-Residential Heat', 'Executive Inspections',\n",
       "       'Construction Lead Dust', 'Ferry Complaint',\n",
       "       'Unsanitary Animal Facility', 'Mold', 'Noise - House of Worship',\n",
       "       'Violation of Park Rules', 'Investigations and Discipline (IAD)',\n",
       "       'Highway Sign - Dangling', 'Bus Stop Shelter Complaint',\n",
       "       'Ferry Inquiry', 'Day Care', 'Emergency Response Team (ERT)',\n",
       "       'Peeling Paint', 'Special Natural Area District (SNAD)',\n",
       "       'Urinating in Public', 'Recycling Enforcement',\n",
       "       'DEP Street Condition', 'Disorderly Youth',\n",
       "       'Bus Stop Shelter Placement', 'Highway Sign - Damaged',\n",
       "       'Highway Sign - Missing', 'Posting Advertisement',\n",
       "       'Green Taxi Report', 'Borough Office',\n",
       "       'Home Delivered Meal Complaint', 'Drinking Water',\n",
       "       'Cranes and Derricks', 'Building Marshals office',\n",
       "       'Found Property', 'FHV Licensee Complaint',\n",
       "       'Homeless Street Condition', 'Taxi Compliment', 'Encampment',\n",
       "       'Ferry Permit', 'Building Condition', 'Tattooing',\n",
       "       'Bike Rack Condition', 'LinkNYC', 'Illegal Animal Sold',\n",
       "       'Cooling Tower', 'Animal Facility - No Permit',\n",
       "       'Dept of Investigations', 'X-Ray Machine/Equipment',\n",
       "       'Snow Removal', 'Internal Code', 'Window Guard',\n",
       "       'Employee Behavior', 'Facades', 'Public Toilet',\n",
       "       'Overflowing Litter Baskets', 'Poison Ivy', 'Squeegee',\n",
       "       'Calorie Labeling', 'Bottled Water', 'Tunnel Condition',\n",
       "       'Radioactive Material', 'Tanning', 'Lifeguard',\n",
       "       'Miscellaneous Categories', 'Litter Basket / Request',\n",
       "       'COVID-19 Non-essential Construction', 'Harboring Bees/Wasps',\n",
       "       'DSNY Spillage', 'Mosquitoes',\n",
       "       'NonCompliance with Phased Reopening', 'Standing Water',\n",
       "       'Sweeping/Inadequate', 'Outdoor Dining', 'Sweeping/Missed',\n",
       "       'Collection Truck Noise', 'Dispatched Taxi Complaint',\n",
       "       'Private or Charter School Reopening', 'Mass Gathering Complaint',\n",
       "       'DEP Sidewalk Condition', 'Trans Fat', 'Wood Pile Remaining',\n",
       "       'Uprooted Stump', 'SNW'], dtype=object)"
      ]
     },
     "execution_count": 4,
     "metadata": {},
     "output_type": "execute_result"
    }
   ],
   "source": [
    "df[\"Complaint Type\"].unique()"
   ]
  },
  {
   "cell_type": "code",
   "execution_count": 9,
   "metadata": {},
   "outputs": [
    {
     "data": {
      "text/plain": [
       "0.07487334365033108"
      ]
     },
     "execution_count": 9,
     "metadata": {},
     "output_type": "execute_result"
    }
   ],
   "source": [
    "import re\n",
    "#pattern1 = \"parking\"\n",
    "pattern2 = \"Illegal Parking\"\n",
    "#re.search(pattern, df[\"Complaint Type\"])\n",
    "no_total = len(df)\n",
    "no_ilparking = len(df[df[\"Complaint Type\"].str.contains(pattern2,case = False)])\n",
    "ratio1 = no_ilparking/no_total\n",
    "ratio1\n"
   ]
  },
  {
   "cell_type": "code",
   "execution_count": 10,
   "metadata": {},
   "outputs": [
    {
     "data": {
      "text/plain": [
       "0.03775383735341787"
      ]
     },
     "execution_count": 10,
     "metadata": {},
     "output_type": "execute_result"
    }
   ],
   "source": [
    "df2 = df[df[\"Incident Zip\"] == 10025]\n",
    "zip_no_total = len(df2)\n",
    "zip_no_ilparking = len(df2[df2[\"Complaint Type\"].str.contains(pattern2,case = False)])\n",
    "ratio2 = zip_no_ilparking/zip_no_total\n",
    "ratio2"
   ]
  },
  {
   "cell_type": "code",
   "execution_count": 11,
   "metadata": {},
   "outputs": [],
   "source": [
    "higher_parking_proportion = (ratio2 > ratio1)"
   ]
  },
  {
   "cell_type": "code",
   "execution_count": 12,
   "metadata": {},
   "outputs": [
    {
     "data": {
      "text/plain": [
       "False"
      ]
     },
     "execution_count": 12,
     "metadata": {},
     "output_type": "execute_result"
    }
   ],
   "source": [
    "higher_parking_proportion"
   ]
  }
 ],
 "metadata": {
  "kernelspec": {
   "display_name": "Python 3",
   "language": "python",
   "name": "python3"
  },
  "language_info": {
   "codemirror_mode": {
    "name": "ipython",
    "version": 3
   },
   "file_extension": ".py",
   "mimetype": "text/x-python",
   "name": "python",
   "nbconvert_exporter": "python",
   "pygments_lexer": "ipython3",
   "version": "3.8.5"
  }
 },
 "nbformat": 4,
 "nbformat_minor": 4
}
