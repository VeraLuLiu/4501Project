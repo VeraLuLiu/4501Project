import numpy as np
import pandas as pd
import matplotlib.pyplot as plt

#read the dataset
df = pd.read_csv("311_Service_Requests_2020.csv")
print(df.shape)

#ZIP CODE : 10025
df1 = df[df['Incident Zip'] == 10025]
df1['year'] = df1['Created Date'].apply(lambda x : int(x[6:10]))
df2 = df1[df1.year == 2020]

#get the number of different incidents
x = df1.groupby('Complaint Type')['Unique Key'].count()
#change into descending order
x = x.sort_values(ascending = False)
#get the top 10
top10 = x[0:10]
top10

#plot the number of top 10 incidents
fig=plt.figure()
ax = fig.add_subplot(1,1,1)
fig.autofmt_xdate()
ax.bar(result.index, result.values, color = 'lightcoral')
ax.set_title("Top 10 Incidents at ZIP 10025")
plt.show()